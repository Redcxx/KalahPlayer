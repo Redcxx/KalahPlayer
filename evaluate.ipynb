{
 "cells": [
  {
   "cell_type": "code",
   "execution_count": 1,
   "outputs": [
    {
     "name": "stdout",
     "output_type": "stream",
     "text": [
      "model agent wins: 100\n"
     ]
    }
   ],
   "source": [
    "from game.play import play\n",
    "from agents.randomagent import RandomAgent\n",
    "from agents.model_agent import ModelAgent\n",
    "from agents.simpleagent import SimpleAgent\n",
    "from game.mancala import Mancala\n",
    "from agents.alpha_pruning_agent import AlphaPruningAgent\n",
    "\n",
    "game = Mancala(stones=7, holes=7)\n",
    "simple_agent = AlphaPruningAgent(depth=3)\n",
    "model_agent = ModelAgent(hidden_size=1024, model_path='simple_agent_final_model.msd')\n",
    "\n",
    "model_agent_wins = 0\n",
    "winner = play(simple_agent, model_agent)\n",
    "for i in range(100):\n",
    "    winner = play(simple_agent, model_agent)\n",
    "    if winner == model_agent:\n",
    "        model_agent_wins += 1\n",
    "    print(f'current: {i}', end='\\r')\n",
    "print(f'model agent wins: {model_agent_wins}')"
   ],
   "metadata": {
    "collapsed": false,
    "pycharm": {
     "name": "#%%\n"
    }
   }
  }
 ],
 "metadata": {
  "kernelspec": {
   "display_name": "Python 3",
   "language": "python",
   "name": "python3"
  },
  "language_info": {
   "codemirror_mode": {
    "name": "ipython",
    "version": 3
   },
   "file_extension": ".py",
   "mimetype": "text/x-python",
   "name": "python",
   "nbconvert_exporter": "python",
   "pygments_lexer": "ipython3",
   "version": "3.8.6"
  }
 },
 "nbformat": 4,
 "nbformat_minor": 1
}