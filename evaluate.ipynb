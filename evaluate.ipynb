{
 "cells": [
  {
   "cell_type": "code",
   "execution_count": null,
   "metadata": {
    "collapsed": true
   },
   "outputs": [],
   "source": [
    "from game.play import play\n",
    "from agents.randomagent import RandomAgent\n",
    "from agents.alpha_pruning_agent import AlphaPruningAgent\n",
    "from game.mancala import Mancala\n",
    "\n",
    "\n",
    "game = Mancala(stones=7, holes=7)\n",
    "random_agent = RandomAgent()\n",
    "alpha_pruning_agent = AlphaPruningAgent()\n",
    "\n",
    "print('game')\n",
    "winner = play(random_agent, alpha_pruning_agent)\n",
    "print(winner)"
   ]
  }
 ],
 "metadata": {
  "kernelspec": {
   "display_name": "Python 3",
   "language": "python",
   "name": "python3"
  },
  "language_info": {
   "codemirror_mode": {
    "name": "ipython",
    "version": 3
   },
   "file_extension": ".py",
   "mimetype": "text/x-python",
   "name": "python",
   "nbconvert_exporter": "python",
   "pygments_lexer": "ipython3",
   "version": "3.8.6"
  }
 },
 "nbformat": 4,
 "nbformat_minor": 1
}