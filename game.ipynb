{
 "cells": [
  {
   "cell_type": "code",
   "execution_count": 62,
   "metadata": {},
   "outputs": [
    {
     "name": "stdout",
     "output_type": "stream",
     "text": [
      " 0  [  7   7   7   7   7   8   8]\n",
      "    [  0   0   9   9   9   9   9]  2\n"
     ]
    }
   ],
   "source": [
    "import numpy as np\n",
    "\n",
    "class Mancala:\n",
    "    def __init__(self, holes=7, stones=7, board=None):\n",
    "        self.n_holes = holes\n",
    "        self.n_stones = stones\n",
    "        self.north_store = self.n_holes\n",
    "        self.south_store = self.n_holes * 2 + 1\n",
    "        self.board = board\n",
    "        if self.board is None:\n",
    "            self.reset()\n",
    "    \n",
    "    def reset(self):\n",
    "        self.board = np.full((self.n_holes+1) * 2, self.n_stones)\n",
    "        self.board[self.n_holes] = 0\n",
    "        self.board[-1] = 0\n",
    "    \n",
    "    def step(self, side, hole):\n",
    "        pos = self._get_board_pos(side, hole)\n",
    "        stones = self.board[pos]\n",
    "        self.board[pos] = 0\n",
    "        pos += 1\n",
    "        while stones > 0:\n",
    "            if not self.is_opponent_store(side, pos):\n",
    "                self.board[pos] += 1\n",
    "                stones -= 1\n",
    "            pos = (pos + 1) % len(self.board)\n",
    "                \n",
    "    def is_opponent_store(self, side, pos):\n",
    "        return side == 'south' and pos == self.north_store \\\n",
    "            or side == 'north' and pos == self.south_store\n",
    "        \n",
    "    def _get_board_pos(self, side, hole):\n",
    "        return hole - 1 if side == 'north' else hole + self.n_holes\n",
    "    \n",
    "    def __str__(self):\n",
    "        formatter = {'int': lambda x: f'{x: >3d}'}\n",
    "        return '{:2d}  {}\\n    {}  {}'.format(\n",
    "            self.board[self.north_store],\n",
    "            np.array2string(self.board[0:self.north_store][::-1], formatter=formatter),\n",
    "            np.array2string(self.board[self.north_store+1:self.south_store], formatter=formatter),\n",
    "            self.board[self.south_store]\n",
    "        )\n",
    "\n",
    "game = Mancala()\n",
    "game.step('south', 1)\n",
    "game.step('south', 2)\n",
    "print(game)"
   ]
  }
 ],
 "metadata": {
  "kernelspec": {
   "display_name": "Python 3",
   "language": "python",
   "name": "python3"
  },
  "language_info": {
   "codemirror_mode": {
    "name": "ipython",
    "version": 3
   },
   "file_extension": ".py",
   "mimetype": "text/x-python",
   "name": "python",
   "nbconvert_exporter": "python",
   "pygments_lexer": "ipython3",
   "version": "3.8.3"
  }
 },
 "nbformat": 4,
 "nbformat_minor": 4
}
