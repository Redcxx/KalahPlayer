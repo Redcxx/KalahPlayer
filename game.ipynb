{
 "cells": [
  {
   "cell_type": "code",
   "execution_count": 27,
   "metadata": {},
   "outputs": [
    {
     "data": {
      "text/plain": [
       "array([7, 7, 7, 7, 7, 7, 7, 0, 7, 7, 7, 7, 7, 7, 7, 0])"
      ]
     },
     "execution_count": 27,
     "metadata": {},
     "output_type": "execute_result"
    }
   ],
   "source": [
    "import numpy as np\n",
    "\n",
    "class Mancala:\n",
    "    def __init__(self, holes=7, stones=7):\n",
    "        self.n_holes = holes\n",
    "        self.n_stones = stones\n",
    "        self.board = np.full((holes+1) * 2, stones)\n",
    "        self.board[holes] = 0\n",
    "        self.board[-1] = 0\n",
    "\n",
    "    def step(self, side, hole):\n",
    "        if side == 'north':\n",
    "            pos = hole - 1\n",
    "        else:\n",
    "            pos = hole + self.n_holes\n",
    "        \n",
    "        stones = self.board[pos]\n",
    "        self.board[pos] = 0\n",
    "        while stones > 0:\n",
    "            if self.is_opponent_store(side, pos):\n",
    "                pos += 1\n",
    "            else:\n",
    "                \n",
    "    def is_opponent_store(self, side, pos):\n",
    "        if side == 'south':\n",
    "            return pos == self.n_holes\n",
    "        else:\n",
    "            return pos == self.n_holes * 2 + 1\n",
    "\n",
    "        \n",
    "\n",
    "game = Mancala()\n",
    "# game.step('north', 6)\n",
    "game.board"
   ]
  }
 ],
 "metadata": {
  "kernelspec": {
   "display_name": "Python 3",
   "language": "python",
   "name": "python3"
  },
  "language_info": {
   "codemirror_mode": {
    "name": "ipython",
    "version": 3
   },
   "file_extension": ".py",
   "mimetype": "text/x-python",
   "name": "python",
   "nbconvert_exporter": "python",
   "pygments_lexer": "ipython3",
   "version": "3.8.3"
  }
 },
 "nbformat": 4,
 "nbformat_minor": 4
}
